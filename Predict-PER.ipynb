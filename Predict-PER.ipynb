{
 "cells": [
  {
   "cell_type": "markdown",
   "metadata": {},
   "source": [
    "## Import and combine all csv files"
   ]
  },
  {
   "cell_type": "code",
   "execution_count": 1,
   "metadata": {
    "collapsed": true
   },
   "outputs": [],
   "source": [
    "import pandas as pd\n",
    "import numpy as np\n",
    "\n",
    "PATH_TOTAL = (\"data/csv/totals/\")\n",
    "PATH_ADVANCED = (\"data/csv/advanced/\")"
   ]
  },
  {
   "cell_type": "code",
   "execution_count": 2,
   "metadata": {
    "collapsed": true
   },
   "outputs": [],
   "source": [
    "import glob\n",
    "allFiles = glob.glob(PATH_ADVANCED + \"leagues_NBA_*_advanced.csv\")\n",
    "frame = pd.DataFrame()\n",
    "list_ = []\n",
    "for file_ in allFiles:\n",
    "    df = pd.read_csv(file_,index_col=None)\n",
    "    list_.append(df)\n",
    "frame = pd.concat(list_,  ignore_index=True)"
   ]
  },
  {
   "cell_type": "markdown",
   "metadata": {},
   "source": [
    "## Get an overview of the data "
   ]
  },
  {
   "cell_type": "code",
   "execution_count": 3,
   "metadata": {},
   "outputs": [
    {
     "name": "stdout",
     "output_type": "stream",
     "text": [
      "<class 'pandas.core.frame.DataFrame'>\n",
      "RangeIndex: 14636 entries, 0 to 14635\n",
      "Data columns (total 31 columns):\n",
      "0              7281 non-null float64\n",
      "0.1            7281 non-null float64\n",
      "3PAr           14616 non-null object\n",
      "AST%           14636 non-null object\n",
      "Age            14636 non-null object\n",
      "BLK%           14636 non-null object\n",
      "BPM            14636 non-null object\n",
      "DBPM           14636 non-null object\n",
      "DRB%           14636 non-null object\n",
      "DWS            14636 non-null object\n",
      "FTr            14616 non-null object\n",
      "G              14636 non-null object\n",
      "MP             14636 non-null object\n",
      "OBPM           14636 non-null object\n",
      "ORB%           14636 non-null object\n",
      "OWS            14636 non-null object\n",
      "PER            14636 non-null object\n",
      "Player         14636 non-null object\n",
      "Pos            14636 non-null object\n",
      "Rk             14636 non-null object\n",
      "STL%           14636 non-null object\n",
      "TOV%           14625 non-null object\n",
      "TRB%           14636 non-null object\n",
      "TS%            14622 non-null object\n",
      "Tm             14636 non-null object\n",
      "USG%           14636 non-null object\n",
      "Unnamed: 19    0 non-null float64\n",
      "Unnamed: 24    0 non-null float64\n",
      "VORP           14636 non-null object\n",
      "WS             14636 non-null object\n",
      "WS/48          14636 non-null object\n",
      "dtypes: float64(4), object(27)\n",
      "memory usage: 3.5+ MB\n"
     ]
    }
   ],
   "source": [
    "frame.info()"
   ]
  },
  {
   "cell_type": "code",
   "execution_count": 4,
   "metadata": {},
   "outputs": [
    {
     "data": {
      "text/html": [
       "<div>\n",
       "<style>\n",
       "    .dataframe thead tr:only-child th {\n",
       "        text-align: right;\n",
       "    }\n",
       "\n",
       "    .dataframe thead th {\n",
       "        text-align: left;\n",
       "    }\n",
       "\n",
       "    .dataframe tbody tr th {\n",
       "        vertical-align: top;\n",
       "    }\n",
       "</style>\n",
       "<table border=\"1\" class=\"dataframe\">\n",
       "  <thead>\n",
       "    <tr style=\"text-align: right;\">\n",
       "      <th></th>\n",
       "      <th>0</th>\n",
       "      <th>0.1</th>\n",
       "      <th>3PAr</th>\n",
       "      <th>AST%</th>\n",
       "      <th>Age</th>\n",
       "      <th>BLK%</th>\n",
       "      <th>BPM</th>\n",
       "      <th>DBPM</th>\n",
       "      <th>DRB%</th>\n",
       "      <th>DWS</th>\n",
       "      <th>...</th>\n",
       "      <th>TOV%</th>\n",
       "      <th>TRB%</th>\n",
       "      <th>TS%</th>\n",
       "      <th>Tm</th>\n",
       "      <th>USG%</th>\n",
       "      <th>Unnamed: 19</th>\n",
       "      <th>Unnamed: 24</th>\n",
       "      <th>VORP</th>\n",
       "      <th>WS</th>\n",
       "      <th>WS/48</th>\n",
       "    </tr>\n",
       "  </thead>\n",
       "  <tbody>\n",
       "    <tr>\n",
       "      <th>0</th>\n",
       "      <td>NaN</td>\n",
       "      <td>NaN</td>\n",
       "      <td>.001</td>\n",
       "      <td>13.6</td>\n",
       "      <td>33</td>\n",
       "      <td>4.0</td>\n",
       "      <td>5.3</td>\n",
       "      <td>1.4</td>\n",
       "      <td>21.5</td>\n",
       "      <td>4.6</td>\n",
       "      <td>...</td>\n",
       "      <td>12.8</td>\n",
       "      <td>15.0</td>\n",
       "      <td>.616</td>\n",
       "      <td>LAL</td>\n",
       "      <td>26.3</td>\n",
       "      <td>NaN</td>\n",
       "      <td>NaN</td>\n",
       "      <td>5.4</td>\n",
       "      <td>14.3</td>\n",
       "      <td>.230</td>\n",
       "    </tr>\n",
       "    <tr>\n",
       "      <th>1</th>\n",
       "      <td>NaN</td>\n",
       "      <td>NaN</td>\n",
       "      <td>.017</td>\n",
       "      <td>8.0</td>\n",
       "      <td>26</td>\n",
       "      <td>0.6</td>\n",
       "      <td>-3.2</td>\n",
       "      <td>-0.7</td>\n",
       "      <td>10.6</td>\n",
       "      <td>0.2</td>\n",
       "      <td>...</td>\n",
       "      <td>10.4</td>\n",
       "      <td>8.8</td>\n",
       "      <td>.459</td>\n",
       "      <td>TOT</td>\n",
       "      <td>10.3</td>\n",
       "      <td>NaN</td>\n",
       "      <td>NaN</td>\n",
       "      <td>-0.1</td>\n",
       "      <td>0.4</td>\n",
       "      <td>.062</td>\n",
       "    </tr>\n",
       "    <tr>\n",
       "      <th>2</th>\n",
       "      <td>NaN</td>\n",
       "      <td>NaN</td>\n",
       "      <td>.000</td>\n",
       "      <td>24.5</td>\n",
       "      <td>26</td>\n",
       "      <td>1.9</td>\n",
       "      <td>5.3</td>\n",
       "      <td>3.3</td>\n",
       "      <td>20.5</td>\n",
       "      <td>4.5</td>\n",
       "      <td>...</td>\n",
       "      <td>18.7</td>\n",
       "      <td>14.7</td>\n",
       "      <td>.567</td>\n",
       "      <td>PHO</td>\n",
       "      <td>23.0</td>\n",
       "      <td>NaN</td>\n",
       "      <td>NaN</td>\n",
       "      <td>3.8</td>\n",
       "      <td>7.7</td>\n",
       "      <td>.180</td>\n",
       "    </tr>\n",
       "    <tr>\n",
       "      <th>3</th>\n",
       "      <td>NaN</td>\n",
       "      <td>NaN</td>\n",
       "      <td>.015</td>\n",
       "      <td>12.5</td>\n",
       "      <td>22</td>\n",
       "      <td>1.7</td>\n",
       "      <td>-5.6</td>\n",
       "      <td>0.4</td>\n",
       "      <td>19.7</td>\n",
       "      <td>0.2</td>\n",
       "      <td>...</td>\n",
       "      <td>23.1</td>\n",
       "      <td>13.4</td>\n",
       "      <td>.385</td>\n",
       "      <td>DAL</td>\n",
       "      <td>15.1</td>\n",
       "      <td>NaN</td>\n",
       "      <td>NaN</td>\n",
       "      <td>-0.2</td>\n",
       "      <td>-0.3</td>\n",
       "      <td>-0.054</td>\n",
       "    </tr>\n",
       "    <tr>\n",
       "      <th>4</th>\n",
       "      <td>NaN</td>\n",
       "      <td>NaN</td>\n",
       "      <td>.012</td>\n",
       "      <td>28.5</td>\n",
       "      <td>32</td>\n",
       "      <td>0.4</td>\n",
       "      <td>-1.3</td>\n",
       "      <td>-1.6</td>\n",
       "      <td>5.4</td>\n",
       "      <td>2.3</td>\n",
       "      <td>...</td>\n",
       "      <td>21.8</td>\n",
       "      <td>3.6</td>\n",
       "      <td>.582</td>\n",
       "      <td>BOS</td>\n",
       "      <td>17.5</td>\n",
       "      <td>NaN</td>\n",
       "      <td>NaN</td>\n",
       "      <td>0.5</td>\n",
       "      <td>6.9</td>\n",
       "      <td>.118</td>\n",
       "    </tr>\n",
       "  </tbody>\n",
       "</table>\n",
       "<p>5 rows × 31 columns</p>\n",
       "</div>"
      ],
      "text/plain": [
       "    0  0.1  3PAr  AST% Age BLK%   BPM  DBPM  DRB%  DWS   ...    TOV%  TRB%  \\\n",
       "0 NaN  NaN  .001  13.6  33  4.0   5.3   1.4  21.5  4.6   ...    12.8  15.0   \n",
       "1 NaN  NaN  .017   8.0  26  0.6  -3.2  -0.7  10.6  0.2   ...    10.4   8.8   \n",
       "2 NaN  NaN  .000  24.5  26  1.9   5.3   3.3  20.5  4.5   ...    18.7  14.7   \n",
       "3 NaN  NaN  .015  12.5  22  1.7  -5.6   0.4  19.7  0.2   ...    23.1  13.4   \n",
       "4 NaN  NaN  .012  28.5  32  0.4  -1.3  -1.6   5.4  2.3   ...    21.8   3.6   \n",
       "\n",
       "    TS%   Tm  USG% Unnamed: 19 Unnamed: 24  VORP    WS   WS/48  \n",
       "0  .616  LAL  26.3         NaN         NaN   5.4  14.3    .230  \n",
       "1  .459  TOT  10.3         NaN         NaN  -0.1   0.4    .062  \n",
       "2  .567  PHO  23.0         NaN         NaN   3.8   7.7    .180  \n",
       "3  .385  DAL  15.1         NaN         NaN  -0.2  -0.3  -0.054  \n",
       "4  .582  BOS  17.5         NaN         NaN   0.5   6.9    .118  \n",
       "\n",
       "[5 rows x 31 columns]"
      ]
     },
     "execution_count": 4,
     "metadata": {},
     "output_type": "execute_result"
    }
   ],
   "source": [
    "frame.head()"
   ]
  },
  {
   "cell_type": "markdown",
   "metadata": {},
   "source": [
    "## Remove duplicates\n",
    "\n",
    "Considering the data is from 1981 to 2015 it will contain duplicates for each player.\n",
    "One intereseting approach would be to compute the average of each player, and calucate career PER, \n",
    "but for the sake of simplicity I compute the PER for their first season"
   ]
  },
  {
   "cell_type": "markdown",
   "metadata": {
    "collapsed": true
   },
   "source": [
    "non_duplicates = frame.drop_duplicates(subset=['Player'])\n",
    "\n",
    "Update: Not necessary, because eliminates a lot of relevant data - rather, delete det \"Player\" column\n",
    "Resulted in 0.1 increase "
   ]
  },
  {
   "cell_type": "markdown",
   "metadata": {},
   "source": [
    "## Need the numerical values"
   ]
  },
  {
   "cell_type": "code",
   "execution_count": 6,
   "metadata": {},
   "outputs": [],
   "source": [
    "numerical_data_frames = ['3PAr', 'AST%', 'BLK%', 'BPM', 'DBPM', 'DWS', 'FTr', 'G', 'MP', 'OBPM', 'ORB%', 'OWS', \n",
    "                         'PER', 'Rk', 'STL%', 'TOV%', 'TRB%', 'TS%', 'USG%', 'VORP', 'WS', 'WS/48']\n",
    "num_data = frame[numerical_data_frames]"
   ]
  },
  {
   "cell_type": "markdown",
   "metadata": {},
   "source": [
    "## Find columns with missing values "
   ]
  },
  {
   "cell_type": "code",
   "execution_count": 7,
   "metadata": {},
   "outputs": [
    {
     "data": {
      "text/plain": [
       "3PAr      True\n",
       "AST%     False\n",
       "BLK%     False\n",
       "BPM      False\n",
       "DBPM     False\n",
       "DWS      False\n",
       "FTr       True\n",
       "G        False\n",
       "MP       False\n",
       "OBPM     False\n",
       "ORB%     False\n",
       "OWS      False\n",
       "PER      False\n",
       "Rk       False\n",
       "STL%     False\n",
       "TOV%      True\n",
       "TRB%     False\n",
       "TS%       True\n",
       "USG%     False\n",
       "VORP     False\n",
       "WS       False\n",
       "WS/48    False\n",
       "dtype: bool"
      ]
     },
     "execution_count": 7,
     "metadata": {},
     "output_type": "execute_result"
    }
   ],
   "source": [
    "num_data.isnull().any()"
   ]
  },
  {
   "cell_type": "markdown",
   "metadata": {},
   "source": [
    "## Replacing missing values with the number 0 and verifying that no values are missing "
   ]
  },
  {
   "cell_type": "code",
   "execution_count": 8,
   "metadata": {},
   "outputs": [
    {
     "data": {
      "text/plain": [
       "3PAr     False\n",
       "AST%     False\n",
       "BLK%     False\n",
       "BPM      False\n",
       "DBPM     False\n",
       "DWS      False\n",
       "FTr      False\n",
       "G        False\n",
       "MP       False\n",
       "OBPM     False\n",
       "ORB%     False\n",
       "OWS      False\n",
       "PER      False\n",
       "Rk       False\n",
       "STL%     False\n",
       "TOV%     False\n",
       "TRB%     False\n",
       "TS%      False\n",
       "USG%     False\n",
       "VORP     False\n",
       "WS       False\n",
       "WS/48    False\n",
       "dtype: bool"
      ]
     },
     "execution_count": 8,
     "metadata": {},
     "output_type": "execute_result"
    }
   ],
   "source": [
    "num_data = num_data.fillna(0)\n",
    "num_data.isnull().any()"
   ]
  },
  {
   "cell_type": "markdown",
   "metadata": {},
   "source": [
    "## If there are any strings, replace with 0"
   ]
  },
  {
   "cell_type": "code",
   "execution_count": 9,
   "metadata": {
    "collapsed": true
   },
   "outputs": [],
   "source": [
    "cols = num_data.columns\n",
    "num_data[cols] = num_data[cols].apply(pd.to_numeric, errors='coerce').fillna(0)"
   ]
  },
  {
   "cell_type": "markdown",
   "metadata": {},
   "source": [
    "## Standard train and fit, using a LinearRegression model"
   ]
  },
  {
   "cell_type": "code",
   "execution_count": 10,
   "metadata": {
    "collapsed": true
   },
   "outputs": [],
   "source": [
    "from sklearn.model_selection import train_test_split\n",
    "X = num_data.drop('PER', axis=1)\n",
    "y = num_data[['PER']]\n",
    "X_train, X_test, y_train, y_test = train_test_split(X, y, test_size=0.2)"
   ]
  },
  {
   "cell_type": "code",
   "execution_count": 11,
   "metadata": {},
   "outputs": [
    {
     "data": {
      "text/plain": [
       "0.97233623078908282"
      ]
     },
     "execution_count": 11,
     "metadata": {},
     "output_type": "execute_result"
    }
   ],
   "source": [
    "from sklearn.linear_model import LinearRegression\n",
    "lin_reg = LinearRegression()\n",
    "lin_reg.fit(X_train, y_train)\n",
    "\n",
    "lin_reg.predict(X_test)\n",
    "lin_reg.score(X_test, y_test)"
   ]
  },
  {
   "cell_type": "markdown",
   "metadata": {},
   "source": [
    "## Trying an example from GitHub"
   ]
  },
  {
   "cell_type": "code",
   "execution_count": 12,
   "metadata": {},
   "outputs": [
    {
     "name": "stderr",
     "output_type": "stream",
     "text": [
      "C:\\Users\\sinde\\Anaconda3\\lib\\site-packages\\sklearn\\neural_network\\multilayer_perceptron.py:1306: DataConversionWarning: A column-vector y was passed when a 1d array was expected. Please change the shape of y to (n_samples, ), for example using ravel().\n",
      "  y = column_or_1d(y, warn=True)\n"
     ]
    },
    {
     "data": {
      "text/plain": [
       "0.98051806184336787"
      ]
     },
     "execution_count": 12,
     "metadata": {},
     "output_type": "execute_result"
    }
   ],
   "source": [
    "from sklearn.pipeline import make_pipeline                                                                                               \n",
    "from sklearn.preprocessing import StandardScaler                                                \n",
    "from sklearn.neural_network import MLPRegressor                         \n",
    "\n",
    "pipeline = make_pipeline(StandardScaler(),                                                      \n",
    "                         MLPRegressor(solver='lbfgs', hidden_layer_sizes=50))                   \n",
    "pipeline.fit(X_train, y_train)                                                                  \n",
    "pipeline.score(X_test, y_test)"
   ]
  },
  {
   "cell_type": "code",
   "execution_count": null,
   "metadata": {
    "collapsed": true
   },
   "outputs": [],
   "source": []
  }
 ],
 "metadata": {
  "kernelspec": {
   "display_name": "Python 3",
   "language": "python",
   "name": "python3"
  },
  "language_info": {
   "codemirror_mode": {
    "name": "ipython",
    "version": 3
   },
   "file_extension": ".py",
   "mimetype": "text/x-python",
   "name": "python",
   "nbconvert_exporter": "python",
   "pygments_lexer": "ipython3",
   "version": "3.6.2"
  }
 },
 "nbformat": 4,
 "nbformat_minor": 2
}
